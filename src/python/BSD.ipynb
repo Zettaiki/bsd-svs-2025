{
 "cells": [
  {
   "cell_type": "markdown",
   "id": "22b926db",
   "metadata": {},
   "source": [
    "# Blind Spot Detection (BSD) with Active Intervention\n",
    "\n",
    "*Project for the course Smart Vehicular Systems (Academic Year 2024/2025).*\n",
    "\n",
    "**Name:** Pablo Sebastian\n",
    "\n",
    "**Surname:** Vargas Grateron\n",
    "\n",
    "**Email:** pablo.vargasgrateron@studio.unibo.it"
   ]
  },
  {
   "cell_type": "markdown",
   "id": "4d8b0ea6",
   "metadata": {},
   "source": [
    "This project implements a blind spot detection system using CARLA simulator and MQTT for communication. The system detects vehicles in the blind spot of a simulated car and can trigger an active intervention if necessary."
   ]
  },
  {
   "cell_type": "markdown",
   "id": "65fbd829",
   "metadata": {},
   "source": [
    "> Before running the code, ensure that the CARLA server is running and the MQTT broker is accessible."
   ]
  },
  {
   "cell_type": "markdown",
   "id": "3b455ec2",
   "metadata": {},
   "source": [
    "## Libraries and setup"
   ]
  },
  {
   "cell_type": "code",
   "execution_count": null,
   "id": "999279d5",
   "metadata": {},
   "outputs": [],
   "source": [
    "import carla, time, pygame, math, random, cv2\n",
    "import numpy as np\n",
    "import paho.mqtt.client as mqtt"
   ]
  },
  {
   "cell_type": "markdown",
   "id": "6a513980",
   "metadata": {},
   "source": [
    "This cell configures the CARLA server connection."
   ]
  },
  {
   "cell_type": "code",
   "execution_count": null,
   "id": "f07e8445",
   "metadata": {},
   "outputs": [],
   "source": [
    "carla_client = carla.Client('localhost', 2000)\n",
    "carla_client.set_timeout(10.0)\n",
    "\n",
    "world = carla_client.get_world()\n",
    "spectator = world.get_spectator()"
   ]
  },
  {
   "cell_type": "markdown",
   "id": "cbe80d95",
   "metadata": {},
   "source": [
    "This cell configures the MQTT client."
   ]
  },
  {
   "cell_type": "code",
   "execution_count": null,
   "id": "f8909a72",
   "metadata": {},
   "outputs": [],
   "source": [
    "BROKER = \"test.mosquitto.org\"\n",
    "PORT = 1883\n",
    "TOPIC = \"svs_blind_spot_detection\"\n",
    "\n",
    "mqtt_client = mqtt.Client()\n",
    "mqtt_client.connect(BROKER, PORT, 60)"
   ]
  },
  {
   "cell_type": "markdown",
   "id": "02136aed",
   "metadata": {},
   "source": [
    "Further setup for the MQTT client, including connection and message handling."
   ]
  },
  {
   "cell_type": "code",
   "execution_count": null,
   "id": "577c2d84",
   "metadata": {},
   "outputs": [],
   "source": [
    "def mqtt_on_connect(client, userdata, flags, rc):\n",
    "    print(f\"[MQTT] Connected (code {rc})\")\n",
    "    client.subscribe(TOPIC)\n",
    "\n",
    "def mqtt_on_message(client, userdata, message):\n",
    "    print(f\"[MQTT] Message on {message.topic} -> {message.payload.decode()}\")\n",
    "\n",
    "def mqtt_send_message(topic, message):\n",
    "    mqtt_client.publish(topic, message)\n",
    "    print(f\"[MQTT] Sent message: {message} to topic: {topic}\")\n",
    "\n",
    "mqtt_client.on_connect = mqtt_on_connect\n",
    "mqtt_client.on_message = mqtt_on_message\n",
    "\n",
    "mqtt_client.loop_start()"
   ]
  },
  {
   "cell_type": "markdown",
   "id": "bc24b592",
   "metadata": {},
   "source": [
    "## Functions"
   ]
  },
  {
   "cell_type": "markdown",
   "id": "041057ed",
   "metadata": {},
   "source": [
    "### CARLA basic functions"
   ]
  },
  {
   "cell_type": "code",
   "execution_count": null,
   "id": "f641447c",
   "metadata": {},
   "outputs": [],
   "source": [
    "def move_spectator_to(transform, distance=5.0, x=0, y=0, z=4, yaw=0, pitch=-30, roll=0):\n",
    "    back_location = transform.location - transform.get_forward_vector() * distance\n",
    "    \n",
    "    back_location.x += x\n",
    "    back_location.y += y\n",
    "    back_location.z += z\n",
    "    transform.rotation.yaw += yaw\n",
    "    transform.rotation.pitch = pitch\n",
    "    transform.rotation.roll = roll\n",
    "    \n",
    "    spectator_transform = carla.Transform(back_location, transform.rotation)\n",
    "    \n",
    "    spectator.set_transform(spectator_transform)\n",
    "\n",
    "def spawn_vehicle(vehicle_index=0, spawn_index=0, pattern='vehicle.*'):\n",
    "    blueprint_library = world.get_blueprint_library()\n",
    "    vehicle_bp = blueprint_library.filter(pattern)[vehicle_index]\n",
    "    spawn_point = world.get_map().get_spawn_points()[spawn_index]\n",
    "    vehicle = world.spawn_actor(vehicle_bp, spawn_point)\n",
    "    return vehicle\n",
    "\n",
    "def draw_on_screen(world, transform, content='O', color=carla.Color(0, 255, 0), life_time=20):\n",
    "    world.debug.draw_string(transform.location, content, color=color, life_time=life_time)"
   ]
  },
  {
   "cell_type": "markdown",
   "id": "419c97f0",
   "metadata": {},
   "source": [
    "### Car image detection functions"
   ]
  },
  {
   "cell_type": "markdown",
   "id": "0177604f",
   "metadata": {},
   "source": [
    "We will implement functions to capture images from the car's cameras and detect vehicles using YOLOv5."
   ]
  },
  {
   "cell_type": "code",
   "execution_count": null,
   "id": "864fd30f",
   "metadata": {},
   "outputs": [],
   "source": []
  },
  {
   "cell_type": "markdown",
   "id": "7154e077",
   "metadata": {},
   "source": [
    "### Sensors functions"
   ]
  },
  {
   "cell_type": "markdown",
   "id": "22e92df6",
   "metadata": {},
   "source": [
    "The next cells implement the functions to spawn:\n",
    "\n",
    "- The **camera sensors** to capture image to further process with YOLOv5 and detect vehicles.\n",
    "- The **radar sensor** to detect vehicles in the blind spot."
   ]
  },
  {
   "cell_type": "code",
   "execution_count": null,
   "id": "500c9f95",
   "metadata": {},
   "outputs": [],
   "source": [
    "def spawn_camera(attach_to=None, transform=carla.Transform(carla.Location(x=0.0, y=0.0, z=1.0), carla.Rotation(pitch=0)), width=800, height=600):\n",
    "    camera_bp = world.get_blueprint_library().find('sensor.camera.rgb')\n",
    "    camera_bp.set_attribute('image_size_x', str(width))\n",
    "    camera_bp.set_attribute('image_size_y', str(height))\n",
    "    camera = world.spawn_actor(camera_bp, transform, attach_to=attach_to)\n",
    "    return camera\n",
    "\n",
    "def spawn_radar(attach_to=None, transform=carla.Transform(carla.Location(x=0.0, y=0.0, z=1.0), carla.Rotation(pitch=0)), range=100, horizontal_fov=30, vertical_fov=30):\n",
    "    radar_bp = world.get_blueprint_library().find('sensor.other.radar')\n",
    "    radar_bp.set_attribute('horizontal_fov', str(horizontal_fov))\n",
    "    radar_bp.set_attribute('vertical_fov', str(vertical_fov))\n",
    "    radar_bp.set_attribute('range', str(range))\n",
    "    radar = world.spawn_actor(radar_bp, transform, attach_to=attach_to)\n",
    "    return radar"
   ]
  },
  {
   "cell_type": "markdown",
   "id": "eec1d546",
   "metadata": {},
   "source": [
    "## Main program and code execution"
   ]
  },
  {
   "cell_type": "code",
   "execution_count": null,
   "id": "d26ca323",
   "metadata": {},
   "outputs": [],
   "source": []
  }
 ],
 "metadata": {
  "kernelspec": {
   "display_name": "carla-env",
   "language": "python",
   "name": "python3"
  },
  "language_info": {
   "codemirror_mode": {
    "name": "ipython",
    "version": 3
   },
   "file_extension": ".py",
   "mimetype": "text/x-python",
   "name": "python",
   "nbconvert_exporter": "python",
   "pygments_lexer": "ipython3",
   "version": "3.7.12"
  }
 },
 "nbformat": 4,
 "nbformat_minor": 5
}
